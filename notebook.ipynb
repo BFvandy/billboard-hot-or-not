{
 "metadata": {
  "language_info": {
   "codemirror_mode": {
    "name": "ipython",
    "version": 3
   },
   "file_extension": ".py",
   "mimetype": "text/x-python",
   "name": "python",
   "nbconvert_exporter": "python",
   "pygments_lexer": "ipython3",
   "version": "3.7.3-final"
  },
  "orig_nbformat": 2,
  "kernelspec": {
   "name": "Python 3.7.3 64-bit ('base': conda)",
   "display_name": "Python 3.7.3 64-bit ('base': conda)",
   "metadata": {
    "interpreter": {
     "hash": "8ed0a9e0047d32366ae59f428fdde601f0c972f5418fcad903ecfc2aeaa68555"
    }
   }
  }
 },
 "nbformat": 4,
 "nbformat_minor": 2,
 "cells": [
  {
   "cell_type": "code",
   "execution_count": 2,
   "metadata": {
    "tags": []
   },
   "outputs": [],
   "source": [
    "from scrape import ChartList\n",
    "from clean import Cleaner\n",
    "import analyze"
   ]
  },
  {
   "cell_type": "code",
   "execution_count": null,
   "metadata": {},
   "outputs": [],
   "source": [
    "chartlist = ChartList()\n",
    "chartlist.get_charts('Hot-100', '2009-10-03', start = 'inception')\n",
    "chartlist.to_pickle('pickle/hot100_p2.pkl')"
   ]
  }
 ]
}